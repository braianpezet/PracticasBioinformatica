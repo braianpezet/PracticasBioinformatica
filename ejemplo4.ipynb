{
 "cells": [
  {
   "cell_type": "markdown",
   "metadata": {},
   "source": [
    "## Ejemplo de Dotplots\n",
    "\n",
    "En este tutorial comentaremos el ejemplo12.py utilizando [Biopython](https://biopython.org/) para cargar las secuencias y una rutina propia para generar un Dotplot. \n",
    "\n",
    "Previamente debemos tener los datos de las secuencias a alinear o a comparar guardadas en un archivo en formato FASTA (por ejemplo la clásica \"ls_orchid.fasta\", que son dos secuencias de genes de orquídeas. Se pueden descargar aquí:\n",
    "\n",
    "+ La [Orquídea Pelicano](https://es.wikipedia.org/wiki/Cypripedium_irapeanum) cuya secuencia se puede descargar del siguiente [enlace (C. irapeanum)](https://www.ncbi.nlm.nih.gov/nuccore/Z78533.1), cuyo código en genbank es **Z78533.1**\n",
    "+ La [Cypripedium californicum](https://es.wikipedia.org/wiki/Cypripedium_californicum), se puede descargar del enlace [C.californicum](https://www.ncbi.nlm.nih.gov/nuccore/Z78532.1), cuyo código en genbank es **Z78532.1**\n",
    "\n",
    "Primero importamos la herramienta SeqIO que sirve para importar los datos."
   ]
  },
  {
   "cell_type": "code",
   "execution_count": 1,
   "metadata": {},
   "outputs": [],
   "source": [
    "from Bio import SeqIO"
   ]
  },
  {
   "cell_type": "markdown",
   "metadata": {},
   "source": [
    "Creo un string con el nombre de archivo y defino el tamaño de ventana."
   ]
  },
  {
   "cell_type": "code",
   "execution_count": 2,
   "metadata": {},
   "outputs": [],
   "source": [
    "archivo = \"ls_orchid.fasta\"\n",
    "window = 8"
   ]
  },
  {
   "cell_type": "markdown",
   "metadata": {},
   "source": [
    "Luego abro el archivo y lo guardo en secuencias separadas"
   ]
  },
  {
   "cell_type": "code",
   "execution_count": 14,
   "metadata": {},
   "outputs": [
    {
     "name": "stdout",
     "output_type": "stream",
     "text": [
      "ID: gi|2765658|emb|Z78533.1|CIZ78533\n",
      "Name: gi|2765658|emb|Z78533.1|CIZ78533\n",
      "Description: gi|2765658|emb|Z78533.1|CIZ78533 C.irapeanum 5.8S rRNA gene and ITS1 and ITS2 DNA\n",
      "Number of features: 0\n",
      "Seq('CGTAACAAGGTTTCCGTAGGTGAACCTGCGGAAGGATCATTGATGAGACCGTGG...CGC', SingleLetterAlphabet())\n",
      "------------\n",
      "CGTAACAAGGTTTCCGTAGGTGAACCTGCGGAAGGATCATTGATGAGACCGTGGAATAAACGATCGAGTGAATCCGGAGGACCGGTGTACTCAGCTCACCGGGGGCATTGCTCCCGTGGTGACCCTGATTTGTTGTTGGGCCGCCTCGGGAGCGTCCATGGCGGGTTTGAACCTCTAGCCCGGCGCAGTTTGGGCGCCAAGCCATATGAAAGCATCACCGGCGAATGGCATTGTCTTCCCCAAAACCCGGAGCGGCGGCGTGCTGTCGCGTGCCCAATGAATTTTGATGACTCTCGCAAACGGGAATCTTGGCTCTTTGCATCGGATGGAAGGACGCAGCGAAATGCGATAAGTGGTGTGAATTGCAAGATCCCGTGAACCATCGAGTCTTTTGAACGCAAGTTGCGCCCGAGGCCATCAGGCTAAGGGCACGCCTGCTTGGGCGTCGCGCTTCGTCTCTCTCCTGCCAATGCTTGCCCGGCATACAGCCAGGCCGGCGTGGTGCGGATGTGAAAGATTGGCCCCTTGTGCCTAGGTGCGGCGGGTCCAAGAGCTGGTGTTTTGATGGCCCGGAACCCGGCAAGAGGTGGACGGATGCTGGCAGCAGCTGCCGTGCGAATCCCCCATGTTGTCGTGCTTGTCGGACAGGCAGGAGAACCCTTCCGAACCCCAATGGAGGGCGGTTGACCGCCATTCGGATGTGACCCCAGGTCAGGCGGGGGCACCCGCTGAGTTTACGC\n",
      "Longitud del string:  740\n"
     ]
    }
   ],
   "source": [
    "with open(archivo) as in_handle:\n",
    "    record_iterator = SeqIO.parse(in_handle, \"fasta\")\n",
    "    rec_one = next(record_iterator)\n",
    "    rec_two = next(record_iterator)\n",
    "    \n",
    "print(rec_one)\n",
    "print('------------')\n",
    "print(str(rec_one.seq))\n",
    "print('Longitud del string: ',len(str(rec_one.seq)))"
   ]
  },
  {
   "cell_type": "markdown",
   "metadata": {},
   "source": [
    "Se podría utilizar la función pairwise2.align.globalms, que justamente realiza los alineamientos globales de las dos secuencias aunque lleva mucho tiempo de cálculo porque las secuencias son muy largas. Por eso es interesante estudiar los potenciales alineamientos con los **dotplots**.\n",
    "\n",
    "Para desarrollar los dotplots se pueden guardar las secuencias en diccionarios con palabras del ancho de la ventana definida. "
   ]
  },
  {
   "cell_type": "code",
   "execution_count": 20,
   "metadata": {},
   "outputs": [],
   "source": [
    "dict_one = {}\n",
    "dict_two = {}\n",
    "for (seq, section_dict) in [(str(rec_one.seq).upper(), dict_one),(str(rec_two.seq).upper(), dict_two)]:\n",
    "    for i in range(len(seq) - window):\n",
    "        section = seq[i : i + window]\n",
    "        try:\n",
    "            section_dict[section].append(i)\n",
    "        except KeyError:\n",
    "            section_dict[section] = [i]\n"
   ]
  },
  {
   "cell_type": "markdown",
   "metadata": {},
   "source": [
    "Luego se realiza la intersección (función propia de diccionarios de python)."
   ]
  },
  {
   "cell_type": "code",
   "execution_count": 19,
   "metadata": {},
   "outputs": [
    {
     "name": "stdout",
     "output_type": "stream",
     "text": [
      "207 matches \n"
     ]
    }
   ],
   "source": [
    "matches = set(dict_one).intersection(dict_two)\n",
    "print(\"%i matches \" % len(matches))\n"
   ]
  },
  {
   "cell_type": "markdown",
   "metadata": {},
   "source": [
    "Ahora creo las listas de coordenadas de dónde están las coincidencias para poder graficarlos."
   ]
  },
  {
   "cell_type": "code",
   "execution_count": 22,
   "metadata": {},
   "outputs": [
    {
     "data": {
      "image/png": "[encoded data removed]",
      "text/plain": [
       "<Figure size 432x288 with 1 Axes>"
      ]
     },
     "metadata": {
      "needs_background": "light"
     },
     "output_type": "display_data"
    }
   ],
   "source": [
    "x = []\n",
    "y = []\n",
    "for section in matches:\n",
    "    for i in dict_one[section]:\n",
    "        for j in dict_two[section]:\n",
    "            x.append(i)\n",
    "            y.append(j)\n",
    "\n",
    "import matplotlib.pyplot as plt\n",
    "\n",
    "fig, ax = plt.subplots()\n",
    "\n",
    "ax.plot(x, y, '.b')\n",
    " \n",
    "ax.set_xlim(0, len(rec_one) - window)\n",
    "ax.set_ylim(len(rec_two) - window,0)\n",
    "#ax.invert_yaxis()\n",
    "ax.set_xlabel(\"%s (Longitud %i bp)\" % (rec_one.id, len(rec_one)))\n",
    "ax.set_ylabel(\"%s (Longitud %i bp)\" % (rec_two.id, len(rec_two)))\n",
    "ax.set_title(\"Matriz de puntos (window = %i)\" % window)\n",
    "\n",
    "plt.show()\n",
    "\n"
   ]
  },
  {
   "cell_type": "code",
   "execution_count": null,
   "metadata": {},
   "outputs": [],
   "source": []
  }
 ],
 "metadata": {
  "kernelspec": {
   "display_name": "Python 3",
   "language": "python",
   "name": "python3"
  },
  "language_info": {
   "codemirror_mode": {
    "name": "ipython",
    "version": 3
   },
   "file_extension": ".py",
   "mimetype": "text/x-python",
   "name": "python",
   "nbconvert_exporter": "python",
   "pygments_lexer": "ipython3",
   "version": "3.5.2"
  }
 },
 "nbformat": 4,
 "nbformat_minor": 1
}
